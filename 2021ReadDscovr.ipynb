{
 "cells": [
  {
   "cell_type": "code",
   "execution_count": 3,
   "metadata": {},
   "outputs": [],
   "source": [
    "import pandas as pd\n",
    "import pytz, datetime\n",
    "import pytz\n",
    "from pytz import timezone\n",
    "import numpy as np\n",
    "import seaborn as sns\n",
    "import matplotlib.pyplot as plt\n"
   ]
  },
  {
   "cell_type": "markdown",
   "metadata": {},
   "source": [
    "https://services.swpc.noaa.gov/products/solar-wind/\n",
    "Leyendo el realtime, falta ajusta para leer del webservice y obtener phi\n",
    "https://www.ngdc.noaa.gov/dscovr/next/"
   ]
  },
  {
   "cell_type": "code",
   "execution_count": 4,
   "metadata": {},
   "outputs": [],
   "source": [
    "path='dscovr/'\n",
    "filenamePy=path+'mag-7-day.json'\n"
   ]
  },
  {
   "cell_type": "code",
   "execution_count": 30,
   "metadata": {},
   "outputs": [],
   "source": [
    "dscovr = pd.read_json (filenamePy, lines=False)\n"
   ]
  },
  {
   "cell_type": "code",
   "execution_count": 31,
   "metadata": {},
   "outputs": [],
   "source": [
    "colunames=dscovr.iloc[0].values\n",
    "dscovr= dscovr.iloc[1:]\n",
    "dscovr.set_axis(colunames, axis=1, inplace=True)"
   ]
  },
  {
   "cell_type": "code",
   "execution_count": 32,
   "metadata": {},
   "outputs": [
    {
     "data": {
      "text/html": [
       "<div>\n",
       "<style scoped>\n",
       "    .dataframe tbody tr th:only-of-type {\n",
       "        vertical-align: middle;\n",
       "    }\n",
       "\n",
       "    .dataframe tbody tr th {\n",
       "        vertical-align: top;\n",
       "    }\n",
       "\n",
       "    .dataframe thead th {\n",
       "        text-align: right;\n",
       "    }\n",
       "</style>\n",
       "<table border=\"1\" class=\"dataframe\">\n",
       "  <thead>\n",
       "    <tr style=\"text-align: right;\">\n",
       "      <th></th>\n",
       "      <th>time_tag</th>\n",
       "      <th>bx_gsm</th>\n",
       "      <th>by_gsm</th>\n",
       "      <th>bz_gsm</th>\n",
       "      <th>lon_gsm</th>\n",
       "      <th>lat_gsm</th>\n",
       "      <th>bt</th>\n",
       "    </tr>\n",
       "  </thead>\n",
       "  <tbody>\n",
       "    <tr>\n",
       "      <td>1</td>\n",
       "      <td>2021-04-26 12:40:00.000</td>\n",
       "      <td>3.78</td>\n",
       "      <td>-0.89</td>\n",
       "      <td>-0.17</td>\n",
       "      <td>346.83</td>\n",
       "      <td>-2.47</td>\n",
       "      <td>3.91</td>\n",
       "    </tr>\n",
       "    <tr>\n",
       "      <td>2</td>\n",
       "      <td>2021-04-26 12:41:00.000</td>\n",
       "      <td>3.59</td>\n",
       "      <td>-0.55</td>\n",
       "      <td>0.08</td>\n",
       "      <td>351.32</td>\n",
       "      <td>1.19</td>\n",
       "      <td>3.65</td>\n",
       "    </tr>\n",
       "    <tr>\n",
       "      <td>3</td>\n",
       "      <td>2021-04-26 12:42:00.000</td>\n",
       "      <td>3.38</td>\n",
       "      <td>-0.39</td>\n",
       "      <td>0.97</td>\n",
       "      <td>353.39</td>\n",
       "      <td>15.96</td>\n",
       "      <td>3.53</td>\n",
       "    </tr>\n",
       "    <tr>\n",
       "      <td>4</td>\n",
       "      <td>2021-04-26 12:43:00.000</td>\n",
       "      <td>3.82</td>\n",
       "      <td>-0.31</td>\n",
       "      <td>0.21</td>\n",
       "      <td>355.43</td>\n",
       "      <td>3.14</td>\n",
       "      <td>3.86</td>\n",
       "    </tr>\n",
       "    <tr>\n",
       "      <td>5</td>\n",
       "      <td>2021-04-26 12:44:00.000</td>\n",
       "      <td>3.87</td>\n",
       "      <td>-0.98</td>\n",
       "      <td>-0.46</td>\n",
       "      <td>345.84</td>\n",
       "      <td>-6.65</td>\n",
       "      <td>4.11</td>\n",
       "    </tr>\n",
       "  </tbody>\n",
       "</table>\n",
       "</div>"
      ],
      "text/plain": [
       "                  time_tag bx_gsm by_gsm bz_gsm lon_gsm lat_gsm    bt\n",
       "1  2021-04-26 12:40:00.000   3.78  -0.89  -0.17  346.83   -2.47  3.91\n",
       "2  2021-04-26 12:41:00.000   3.59  -0.55   0.08  351.32    1.19  3.65\n",
       "3  2021-04-26 12:42:00.000   3.38  -0.39   0.97  353.39   15.96  3.53\n",
       "4  2021-04-26 12:43:00.000   3.82  -0.31   0.21  355.43    3.14  3.86\n",
       "5  2021-04-26 12:44:00.000   3.87  -0.98  -0.46  345.84   -6.65  4.11"
      ]
     },
     "execution_count": 32,
     "metadata": {},
     "output_type": "execute_result"
    }
   ],
   "source": [
    "dscovr.head()"
   ]
  },
  {
   "cell_type": "code",
   "execution_count": 37,
   "metadata": {},
   "outputs": [],
   "source": [
    "dscovr['datetime']=pd.to_datetime(dscovr.time_tag,format='%Y-%m-%d %H:%M:%S',utc=True)\n",
    "dscovr.set_index(['datetime'],drop=True, inplace=True)\n",
    "#py.tail()"
   ]
  },
  {
   "cell_type": "code",
   "execution_count": 44,
   "metadata": {},
   "outputs": [
    {
     "name": "stdout",
     "output_type": "stream",
     "text": [
      "<class 'pandas.core.frame.DataFrame'>\n",
      "DatetimeIndex: 10075 entries, 2021-04-26 12:40:00+00:00 to 2021-05-03 12:36:00+00:00\n",
      "Data columns (total 7 columns):\n",
      "time_tag    10075 non-null object\n",
      "bx_gsm      10075 non-null object\n",
      "by_gsm      10075 non-null object\n",
      "bz_gsm      10075 non-null object\n",
      "lon_gsm     10075 non-null object\n",
      "lat_gsm     10075 non-null object\n",
      "bt          10075 non-null object\n",
      "dtypes: object(7)\n",
      "memory usage: 629.7+ KB\n"
     ]
    }
   ],
   "source": [
    "dscovr.info()"
   ]
  },
  {
   "cell_type": "code",
   "execution_count": 43,
   "metadata": {},
   "outputs": [
    {
     "data": {
      "text/plain": [
       "10075"
      ]
     },
     "execution_count": 43,
     "metadata": {},
     "output_type": "execute_result"
    }
   ],
   "source": []
  },
  {
   "cell_type": "code",
   "execution_count": 47,
   "metadata": {},
   "outputs": [
    {
     "data": {
      "image/png": "[encoded data removed]",
      "text/plain": [
       "<Figure size 720x144 with 1 Axes>"
      ]
     },
     "metadata": {
      "needs_background": "light"
     },
     "output_type": "display_data"
    }
   ],
   "source": [
    "fig, axes = plt.subplots(1,1, figsize=(10,2), sharex=True)\n",
    "dscovr['bz_gsm'].astype(float).plot(subplots=True,marker='.', markersize=2, linestyle='None', ax=axes)\n",
    "axes.set_ylabel('Bz')\n",
    "axes.set_xlabel('Date')\n",
    "plt.tight_layout()\n",
    "#plt.savefig('pngs/SerieCrudaContaje.png')\n",
    "\n"
   ]
  },
  {
   "cell_type": "code",
   "execution_count": null,
   "metadata": {},
   "outputs": [],
   "source": []
  },
  {
   "cell_type": "code",
   "execution_count": null,
   "metadata": {},
   "outputs": [],
   "source": []
  },
  {
   "cell_type": "code",
   "execution_count": null,
   "metadata": {},
   "outputs": [],
   "source": []
  }
 ],
 "metadata": {
  "kernelspec": {
   "display_name": "Python 3",
   "language": "python",
   "name": "python3"
  },
  "language_info": {
   "codemirror_mode": {
    "name": "ipython",
    "version": 3
   },
   "file_extension": ".py",
   "mimetype": "text/x-python",
   "name": "python",
   "nbconvert_exporter": "python",
   "pygments_lexer": "ipython3",
   "version": "3.6.8"
  }
 },
 "nbformat": 4,
 "nbformat_minor": 4
}
