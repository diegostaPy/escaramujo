{
 "cells": [
  {
   "cell_type": "code",
   "execution_count": 4,
   "metadata": {},
   "outputs": [],
   "source": [
    "import pandas as pd\n",
    "import pytz, datetime\n",
    "import pytz\n",
    "import numpy as np\n",
    "import seaborn as sns\n",
    "import matplotlib.pyplot as plt\n"
   ]
  },
  {
   "cell_type": "code",
   "execution_count": 5,
   "metadata": {},
   "outputs": [],
   "source": [
    "#path='DatosMexico/2020/Marzo/'\n",
    "#filename=path+'DAT0203200825.txt'\n",
    "path='DatosMexico/2020/Febrero/'\n",
    "filename=path+'DAT2002201054.txt'"
   ]
  },
  {
   "cell_type": "code",
   "execution_count": 7,
   "metadata": {},
   "outputs": [],
   "source": [
    "file_DS = open(filename[:-4]+\"DS.txt\", 'w+') #Nombra tu nuevo archivo DS.\n",
    "file_ST = open(filename[:-4]+\"ST.txt\", 'w+') # Nombra tu nuevo archivo ST.\n",
    "ocurrencias1 = []\n",
    "ocurrencias2 = []\n",
    "palabra1 = 'ST'\n",
    "palabra2 = 'DS'\n",
    "with open(filename) as lineas: # Abre archivo de Escaramujo\n",
    "    flag=False\n",
    "    for linea in lineas:\n",
    "            if flag: \n",
    "                ocurrencias2.append(linea)\n",
    "                flag=False \n",
    "            if palabra1 in linea:\n",
    "                ocurrencias1.append(linea)\n",
    "                flag=True \n",
    " \n",
    "       \n",
    "for i, j in enumerate (ocurrencias1):\n",
    "    #print(i, j)\n",
    "    file_ST.write(str(j))\n",
    "\n",
    "file_ST.close() \n",
    "\n",
    "for i, k in enumerate (ocurrencias2):\n",
    "    #print i, k\n",
    "    file_DS.write(str(k))\n",
    "\n",
    "file_DS.close()"
   ]
  },
  {
   "cell_type": "code",
   "execution_count": 8,
   "metadata": {},
   "outputs": [],
   "source": [
    "dec = open(filename[:-4]+\"_deci.txt\",'w') # Nombra tu nuevo archivo en decimal.\n",
    "ST = '151020191311_DS.txt' # Tu archivo DS del programa de 'Busqueda_ST_DS'.\n",
    "coincidencias = np.loadtxt(filename[:-4]+\"DS.txt\",delimiter= ' ',skiprows=2,usecols=[5],dtype=bytes).astype(str)\n",
    "\n",
    "for i, j in enumerate (coincidencias):  \n",
    "    k= int(j,16)\n",
    "    #print i, k\n",
    "    dec.write(str(k))\n",
    "    dec.write(\"\\n\")\n",
    "    \n",
    "dec.close() \n"
   ]
  },
  {
   "cell_type": "code",
   "execution_count": 9,
   "metadata": {},
   "outputs": [
    {
     "name": "stdout",
     "output_type": "stream",
     "text": [
      "['165716' '165816' '165916' ... '142319' '142419' '142520']\n",
      "['200220' '200220' '200220' ... '020320' '020320' '020320']\n"
     ]
    }
   ],
   "source": [
    "coincidenciasF = open(filename[:-4]+\"_final.txt\",'w') # Nombra nuevo archivo final.\n",
    "dec = filename[:-4]+\"_deci.txt\" # Llama archivo creado en 'Hexadecimal_Decimal'.\n",
    "coincidencias = np.loadtxt(dec,delimiter= ' ',usecols=[0],dtype=bytes).astype(str)\n",
    "ST = filename[:-4]+\"ST.txt\" # Llama archivo creado en 'Busqueda_ST_DS'.\n",
    "hora = np.loadtxt(ST,delimiter= ' ',skiprows=2,usecols=[5],dtype=bytes).astype(str)\n",
    "fecha = np.loadtxt(ST,delimiter= ' ',skiprows=2,usecols=[6],dtype=bytes).astype(str)\n",
    "\n",
    "Titulo= 'Fecha,Hora,Coincidencias\\n'\n",
    "#print Titulo\n",
    "coincidenciasF.write (str(Titulo))\n",
    "print(hora)\n",
    "for i in range(len(hora)):\n",
    "    test = int(hora[i])\n",
    "     #print(test)\n",
    "    data = fecha[i] + \",\" + hora[i] + \",\" + coincidencias[i] \n",
    "        #print(data)\n",
    "    coincidenciasF.write(str(data))\n",
    "    coincidenciasF.write(\"\\n\") \n",
    "         \n",
    "coincidenciasF.close()\n",
    "print(fecha)\n"
   ]
  },
  {
   "cell_type": "code",
   "execution_count": 15,
   "metadata": {},
   "outputs": [
    {
     "name": "stdout",
     "output_type": "stream",
     "text": [
      "<class 'pandas.core.frame.DataFrame'>\n",
      "RangeIndex: 15643 entries, 1 to 15643\n",
      "Data columns (total 3 columns):\n",
      " #   Column         Non-Null Count  Dtype \n",
      "---  ------         --------------  ----- \n",
      " 0   Fecha          15643 non-null  object\n",
      " 1   Hora           15643 non-null  object\n",
      " 2   Coincidencias  15643 non-null  int64 \n",
      "dtypes: int64(1), object(2)\n",
      "memory usage: 366.8+ KB\n"
     ]
    },
    {
     "data": {
      "text/html": [
       "<div>\n",
       "<style scoped>\n",
       "    .dataframe tbody tr th:only-of-type {\n",
       "        vertical-align: middle;\n",
       "    }\n",
       "\n",
       "    .dataframe tbody tr th {\n",
       "        vertical-align: top;\n",
       "    }\n",
       "\n",
       "    .dataframe thead th {\n",
       "        text-align: right;\n",
       "    }\n",
       "</style>\n",
       "<table border=\"1\" class=\"dataframe\">\n",
       "  <thead>\n",
       "    <tr style=\"text-align: right;\">\n",
       "      <th></th>\n",
       "      <th>Fecha</th>\n",
       "      <th>Hora</th>\n",
       "      <th>Coincidencias</th>\n",
       "    </tr>\n",
       "  </thead>\n",
       "  <tbody>\n",
       "    <tr>\n",
       "      <th>1</th>\n",
       "      <td>200220</td>\n",
       "      <td>165816</td>\n",
       "      <td>74</td>\n",
       "    </tr>\n",
       "    <tr>\n",
       "      <th>2</th>\n",
       "      <td>200220</td>\n",
       "      <td>165916</td>\n",
       "      <td>85</td>\n",
       "    </tr>\n",
       "    <tr>\n",
       "      <th>3</th>\n",
       "      <td>200220</td>\n",
       "      <td>170016</td>\n",
       "      <td>76</td>\n",
       "    </tr>\n",
       "    <tr>\n",
       "      <th>4</th>\n",
       "      <td>200220</td>\n",
       "      <td>170116</td>\n",
       "      <td>91</td>\n",
       "    </tr>\n",
       "    <tr>\n",
       "      <th>5</th>\n",
       "      <td>200220</td>\n",
       "      <td>170216</td>\n",
       "      <td>72</td>\n",
       "    </tr>\n",
       "  </tbody>\n",
       "</table>\n",
       "</div>"
      ],
      "text/plain": [
       "    Fecha    Hora  Coincidencias\n",
       "1  200220  165816             74\n",
       "2  200220  165916             85\n",
       "3  200220  170016             76\n",
       "4  200220  170116             91\n",
       "5  200220  170216             72"
      ]
     },
     "execution_count": 15,
     "metadata": {},
     "output_type": "execute_result"
    }
   ],
   "source": [
    "datos= pd.read_csv(filename[:-4]+\"_final.txt\", dtype={'Fecha': 'str','Hora': 'str'})\n",
    "datos= datos.iloc[1:]\n",
    "df=pd.DataFrame(datos)\n",
    "df.info()\n",
    "df.head()"
   ]
  },
  {
   "cell_type": "code",
   "execution_count": 22,
   "metadata": {},
   "outputs": [
    {
     "name": "stdout",
     "output_type": "stream",
     "text": [
      "<class 'pandas.core.frame.DataFrame'>\n",
      "DatetimeIndex: 15643 entries, 2020-02-20 16:58:16 to 2020-03-02 14:25:20\n",
      "Data columns (total 3 columns):\n",
      " #   Column         Non-Null Count  Dtype \n",
      "---  ------         --------------  ----- \n",
      " 0   Fecha          15643 non-null  object\n",
      " 1   Hora           15643 non-null  object\n",
      " 2   Coincidencias  15643 non-null  int64 \n",
      "dtypes: int64(1), object(2)\n",
      "memory usage: 488.8+ KB\n"
     ]
    }
   ],
   "source": []
  },
  {
   "cell_type": "code",
   "execution_count": 29,
   "metadata": {},
   "outputs": [],
   "source": [
    "df['datetime']=pd.to_datetime(df['Fecha'] +df['Hora'], format='%d%m%y%H%M%S')\n",
    "df.set_index(['datetime'],drop=True, inplace=True)\n",
    "flag=np.logical_and(df.index>\"2020-01-01\",df.index<\"2020-12-28 \")"
   ]
  },
  {
   "cell_type": "code",
   "execution_count": 30,
   "metadata": {},
   "outputs": [
    {
     "data": {
      "text/plain": [
       "15643"
      ]
     },
     "execution_count": 30,
     "metadata": {},
     "output_type": "execute_result"
    }
   ],
   "source": [
    "len(flag)"
   ]
  },
  {
   "cell_type": "code",
   "execution_count": 36,
   "metadata": {},
   "outputs": [
    {
     "data": {
      "image/png": "[encoded data removed]",
      "text/plain": [
       "<Figure size 720x144 with 1 Axes>"
      ]
     },
     "metadata": {},
     "output_type": "display_data"
    }
   ],
   "source": [
    "fig, axes = plt.subplots(1,1, figsize=(10,2), sharex=True)\n",
    "axes =df['Coincidencias'][flag].plot(marker='.',markersize=5.5, ylim=(30,140),linestyle='None',legend=True,  label='Muons',alpha=1,color='g', subplots=True)\n",
    "ax = plt.gca()\n",
    "ax.set_ylabel('Counts')\n",
    "plt.show()\n"
   ]
  },
  {
   "cell_type": "code",
   "execution_count": 37,
   "metadata": {},
   "outputs": [],
   "source": [
    "myarray = np.asarray(coincidencias)"
   ]
  },
  {
   "cell_type": "code",
   "execution_count": 38,
   "metadata": {},
   "outputs": [
    {
     "data": {
      "image/png": "[encoded data removed]",
      "text/plain": [
       "<Figure size 432x288 with 1 Axes>"
      ]
     },
     "metadata": {},
     "output_type": "display_data"
    }
   ],
   "source": [
    "import seaborn as sns\n",
    "sns.set(style=\"whitegrid\")\n",
    "ax = sns.boxplot(data=myarray)\n",
    "#plt.savefig(\"Escaramujocoincidencias.png\", bbox_inches='tight')"
   ]
  },
  {
   "cell_type": "code",
   "execution_count": null,
   "metadata": {},
   "outputs": [],
   "source": []
  },
  {
   "cell_type": "code",
   "execution_count": null,
   "metadata": {},
   "outputs": [],
   "source": []
  }
 ],
 "metadata": {
  "kernelspec": {
   "display_name": "Python 3",
   "language": "python",
   "name": "python3"
  },
  "language_info": {
   "codemirror_mode": {
    "name": "ipython",
    "version": 3
   },
   "file_extension": ".py",
   "mimetype": "text/x-python",
   "name": "python",
   "nbconvert_exporter": "python",
   "pygments_lexer": "ipython3",
   "version": "3.8.8"
  }
 },
 "nbformat": 4,
 "nbformat_minor": 4
}
