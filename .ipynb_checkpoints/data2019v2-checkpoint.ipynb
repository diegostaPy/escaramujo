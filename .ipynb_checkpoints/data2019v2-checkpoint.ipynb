{
 "cells": [
  {
   "cell_type": "code",
   "execution_count": 2,
   "metadata": {},
   "outputs": [],
   "source": [
    "palabra1 = 'ST'\n",
    "palabra2 = 'DS'\n",
    "ocurrencias1 = []\n",
    "ocurrencias2 = []\n",
    "file_DS = open('vardn0507181644_DS.txt', 'w+') #Nombra tu nuevo archivo DS.\n",
    "\n",
    "file_ST = open('vardn0507181644_ST.txt', 'w+') # Nombra tu nuevo archivo ST.\n",
    "with open('vardn0507181644.txt') as lineas: # Abre archivo de Escaramujo\n",
    "    flag=False\n",
    "    for linea in lineas:\n",
    "            if flag: \n",
    "                ocurrencias2.append(linea)\n",
    "                flag=False \n",
    "            if palabra1 in linea:\n",
    "                ocurrencias1.append(linea)\n",
    "                flag=True \n",
    " \n",
    "       \n",
    "for i, j in enumerate (ocurrencias1):\n",
    "    #print(i, j)\n",
    "    file_ST.write(str(j))\n",
    "\n",
    "file_ST.close() \n",
    "\n",
    "for i, k in enumerate (ocurrencias2):\n",
    "    #print i, k\n",
    "    file_DS.write(str(k))\n",
    "\n",
    "file_DS.close()"
   ]
  },
  {
   "cell_type": "code",
   "execution_count": 3,
   "metadata": {},
   "outputs": [],
   "source": [
    "import numpy as np\n",
    "import matplotlib.pyplot as plt\n",
    "import pandas as pd"
   ]
  },
  {
   "cell_type": "code",
   "execution_count": 4,
   "metadata": {},
   "outputs": [],
   "source": [
    "dec = open('vardn0507181644_deci.txt','w') # Nombra tu nuevo archivo en decimal.\n",
    "ST = 'vardn0507181644_DS.txt' # Tu archivo DS del programa de 'Busqueda_ST_DS'.\n",
    "coincidencias = np.loadtxt(ST,delimiter= ' ',skiprows=2,usecols=[5],dtype=bytes).astype(str)\n",
    "\n",
    "for i, j in enumerate (coincidencias):  \n",
    "    k= int(j,16)\n",
    "    #print i, k\n",
    "    dec.write(str(k))\n",
    "    dec.write(\"\\n\")\n",
    "    \n",
    "dec.close() \n"
   ]
  },
  {
   "cell_type": "code",
   "execution_count": 7,
   "metadata": {},
   "outputs": [
    {
     "name": "stdout",
     "output_type": "stream",
     "text": [
      "['214611' '214711' '214811' ... '191141' '191241' '191406']\n"
     ]
    }
   ],
   "source": [
    "\n",
    "dia_hora_coincidencias = open('vardn0507181644_final_dia.csv','w') # Nombra nuevo archivo final.\n",
    "noche_hora_coincidencias = open('vardn0507181644_final_noche.csv','w')\n",
    "\n",
    "dec = 'vardn0507181644_deci.txt' # Llama archivo creado en 'Hexadecimal_Decimal'.\n",
    "coincidencias = np.loadtxt(dec,delimiter= ' ',usecols=[0],dtype=bytes).astype(str)\n",
    "\n",
    "ST = 'vardn0507181644_ST.txt' # Llama archivo creado en 'Busqueda_ST_DS'.\n",
    "hora = np.loadtxt(ST,delimiter= ' ',skiprows=2,usecols=[5],dtype=bytes).astype(str)\n",
    "fecha = np.loadtxt(ST,delimiter= ' ',skiprows=2,usecols=[6],dtype=bytes).astype(str)\n",
    "\n",
    "Titulo= 'Fecha,Hora,Coincidencias\\n'\n",
    "#print Titulo\n",
    "dia_hora_coincidencias.write (str(Titulo))\n",
    "noche_hora_coincidencias.write (str(Titulo))\n",
    "print(hora)\n",
    "for i in range(len(hora)):\n",
    "    test = int(hora[i])\n",
    "    if 63500<test<192417 : # Fija intervalo de horas para el día\n",
    "        data = fecha[i] + \",\" + hora[i] + \",\" + coincidencias[i] \n",
    "        #print(data)\n",
    "        dia_hora_coincidencias.write(str(data))\n",
    "        dia_hora_coincidencias.write(\"\\n\") \n",
    "    else:\n",
    "        data2 = fecha[i] + \",\" + hora[i] + \",\" + coincidencias[i] \n",
    "        #print data2\n",
    "        noche_hora_coincidencias.write(str(data2))\n",
    "        noche_hora_coincidencias.write(\"\\n\") \n",
    "        \n",
    "dia_hora_coincidencias.close()\n",
    "noche_hora_coincidencias.close()\n"
   ]
  },
  {
   "cell_type": "code",
   "execution_count": 31,
   "metadata": {},
   "outputs": [],
   "source": [
    "\n",
    "datos= pd.read_csv('vardn0507181644_final_dia.csv')\n",
    "datos2= pd.read_csv('vardn0507181644_final_noche.csv')\n",
    "df=pd.DataFrame(datos)\n",
    "df2=pd.DataFrame(datos2)\n",
    "\n"
   ]
  },
  {
   "cell_type": "code",
   "execution_count": 32,
   "metadata": {},
   "outputs": [
    {
     "data": {
      "image/png": "[encoded data removed]",
      "text/plain": [
       "<Figure size 864x432 with 2 Axes>"
      ]
     },
     "metadata": {
      "needs_background": "light"
     },
     "output_type": "display_data"
    },
    {
     "data": {
      "text/plain": [
       "<Figure size 432x288 with 0 Axes>"
      ]
     },
     "metadata": {},
     "output_type": "display_data"
    }
   ],
   "source": [
    "plt.figure(figsize=(12,6)) # Elige el tamaño de las gráficas\n",
    "plt.subplot(1,2,1)\n",
    "df.groupby('Hora')['Coincidencias'].mean().plot(kind='bar',cmap='Spectral', legend=False)\n",
    "plt.title('# Coincidencias por hora (dia)')\n",
    "plt.xlabel('Horas')\n",
    "plt.ylabel('Coincidencias')\n",
    "\n",
    "plt.subplot(1,2,2)\n",
    "df2.groupby('Hora')['Coincidencias'].mean().plot(kind='bar',cmap='Spectral', legend=False)\n",
    "plt.title('# Coincidencias por hora (noche)')\n",
    "plt.xlabel('Horas')\n",
    "plt.ylabel('Coincidencias')\n",
    "\n",
    "\n",
    "plt.show()\n",
    "plt.savefig(\"vardn0507181644_fig.png\", bbox_inches='tight') #Nombra el archivo de la gráfica\n"
   ]
  },
  {
   "cell_type": "code",
   "execution_count": 9,
   "metadata": {},
   "outputs": [],
   "source": [
    "myarray = np.asarray(coincidencias)"
   ]
  },
  {
   "cell_type": "code",
   "execution_count": 16,
   "metadata": {},
   "outputs": [
    {
     "data": {
      "image/png": "[encoded data removed]",
      "text/plain": [
       "<Figure size 432x288 with 1 Axes>"
      ]
     },
     "metadata": {},
     "output_type": "display_data"
    }
   ],
   "source": [
    "import seaborn as sns\n",
    "sns.set(style=\"whitegrid\")\n",
    "ax = sns.boxplot(data=myarray)\n",
    "plt.savefig(\"coincidencias.png\", bbox_inches='tight')"
   ]
  },
  {
   "cell_type": "code",
   "execution_count": 13,
   "metadata": {},
   "outputs": [
    {
     "name": "stdout",
     "output_type": "stream",
     "text": [
      "Collecting seaborn\n",
      "\u001b[?25l  Downloading https://files.pythonhosted.org/packages/a8/76/220ba4420459d9c4c9c9587c6ce607bf56c25b3d3d2de62056efe482dadc/seaborn-0.9.0-py3-none-any.whl (208kB)\n",
      "\u001b[K     |████████████████████████████████| 215kB 1.2MB/s eta 0:00:01\n",
      "\u001b[?25hRequirement already satisfied: matplotlib>=1.4.3 in /home/r2d2/venv/lib/python3.6/site-packages (from seaborn) (3.1.1)\n",
      "Requirement already satisfied: scipy>=0.14.0 in /home/r2d2/venv/lib/python3.6/site-packages (from seaborn) (1.3.1)\n",
      "Requirement already satisfied: numpy>=1.9.3 in /home/r2d2/venv/lib/python3.6/site-packages (from seaborn) (1.17.2)\n",
      "Requirement already satisfied: pandas>=0.15.2 in /home/r2d2/venv/lib/python3.6/site-packages (from seaborn) (0.25.1)\n",
      "Requirement already satisfied: python-dateutil>=2.1 in /home/r2d2/venv/lib/python3.6/site-packages (from matplotlib>=1.4.3->seaborn) (2.8.0)\n",
      "Requirement already satisfied: kiwisolver>=1.0.1 in /home/r2d2/venv/lib/python3.6/site-packages (from matplotlib>=1.4.3->seaborn) (1.1.0)\n",
      "Requirement already satisfied: cycler>=0.10 in /home/r2d2/venv/lib/python3.6/site-packages (from matplotlib>=1.4.3->seaborn) (0.10.0)\n",
      "Requirement already satisfied: pyparsing!=2.0.4,!=2.1.2,!=2.1.6,>=2.0.1 in /home/r2d2/venv/lib/python3.6/site-packages (from matplotlib>=1.4.3->seaborn) (2.4.2)\n",
      "Requirement already satisfied: pytz>=2017.2 in /home/r2d2/venv/lib/python3.6/site-packages (from pandas>=0.15.2->seaborn) (2019.2)\n",
      "Requirement already satisfied: six>=1.5 in /home/r2d2/venv/lib/python3.6/site-packages (from python-dateutil>=2.1->matplotlib>=1.4.3->seaborn) (1.12.0)\n",
      "Requirement already satisfied: setuptools in /home/r2d2/venv/lib/python3.6/site-packages (from kiwisolver>=1.0.1->matplotlib>=1.4.3->seaborn) (41.2.0)\n",
      "Installing collected packages: seaborn\n",
      "Successfully installed seaborn-0.9.0\n"
     ]
    }
   ],
   "source": [
    "! pip install seaborn"
   ]
  },
  {
   "cell_type": "code",
   "execution_count": null,
   "metadata": {},
   "outputs": [],
   "source": []
  }
 ],
 "metadata": {
  "kernelspec": {
   "display_name": "Python 3",
   "language": "python",
   "name": "python3"
  },
  "language_info": {
   "codemirror_mode": {
    "name": "ipython",
    "version": 3
   },
   "file_extension": ".py",
   "mimetype": "text/x-python",
   "name": "python",
   "nbconvert_exporter": "python",
   "pygments_lexer": "ipython3",
   "version": "3.6.8"
  }
 },
 "nbformat": 4,
 "nbformat_minor": 4
}
