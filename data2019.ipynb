{
 "cells": [
  {
   "cell_type": "code",
   "execution_count": 2,
   "metadata": {},
   "outputs": [],
   "source": [
    "palabra1 = 'ST'\n",
    "palabra2 = 'DS'\n",
    "ocurrencias1 = []\n",
    "ocurrencias2 = []\n",
    "file_DS = open('vardn0507181644_DS.txt', 'w+') #Nombra tu nuevo archivo DS.\n",
    "\n",
    "file_ST = open('vardn0507181644_ST.txt', 'w+') # Nombra tu nuevo archivo ST.\n",
    "with open('vardn0507181644.txt') as lineas: # Abre archivo de Escaramujo\n",
    "    flag=False\n",
    "    for linea in lineas:\n",
    "            if flag: \n",
    "                ocurrencias2.append(linea)\n",
    "                flag=False \n",
    "            if palabra1 in linea:\n",
    "                ocurrencias1.append(linea)\n",
    "                flag=True \n",
    " \n",
    "       \n",
    "for i, j in enumerate (ocurrencias1):\n",
    "    #print(i, j)\n",
    "    file_ST.write(str(j))\n",
    "\n",
    "file_ST.close() \n",
    "\n",
    "for i, k in enumerate (ocurrencias2):\n",
    "    #print i, k\n",
    "    file_DS.write(str(k))\n",
    "\n",
    "file_DS.close()"
   ]
  },
  {
   "cell_type": "code",
   "execution_count": 3,
   "metadata": {},
   "outputs": [],
   "source": [
    "import numpy as np\n",
    "import matplotlib.pyplot as plt\n",
    "import pandas as pd"
   ]
  },
  {
   "cell_type": "code",
   "execution_count": 4,
   "metadata": {},
   "outputs": [],
   "source": [
    "dec = open('vardn0507181644_deci.txt','w') # Nombra tu nuevo archivo en decimal.\n",
    "ST = 'vardn0507181644_DS.txt' # Tu archivo DS del programa de 'Busqueda_ST_DS'.\n",
    "coincidencias = np.loadtxt(ST,delimiter= ' ',skiprows=2,usecols=[5],dtype=bytes).astype(str)\n",
    "\n",
    "for i, j in enumerate (coincidencias):  \n",
    "    k= int(j,16)\n",
    "    #print i, k\n",
    "    dec.write(str(k))\n",
    "    dec.write(\"\\n\")\n",
    "    \n",
    "dec.close() \n"
   ]
  },
  {
   "cell_type": "code",
   "execution_count": 7,
   "metadata": {},
   "outputs": [
    {
     "name": "stdout",
     "output_type": "stream",
     "text": [
      "['214611' '214711' '214811' ... '191141' '191241' '191406']\n"
     ]
    }
   ],
   "source": [
    "\n",
    "dia_hora_coincidencias = open('vardn0507181644_final_dia.csv','w') # Nombra nuevo archivo final.\n",
    "noche_hora_coincidencias = open('vardn0507181644_final_noche.csv','w')\n",
    "\n",
    "dec = 'vardn0507181644_deci.txt' # Llama archivo creado en 'Hexadecimal_Decimal'.\n",
    "coincidencias = np.loadtxt(dec,delimiter= ' ',usecols=[0],dtype=bytes).astype(str)\n",
    "\n",
    "ST = 'vardn0507181644_ST.txt' # Llama archivo creado en 'Busqueda_ST_DS'.\n",
    "hora = np.loadtxt(ST,delimiter= ' ',skiprows=2,usecols=[5],dtype=bytes).astype(str)\n",
    "fecha = np.loadtxt(ST,delimiter= ' ',skiprows=2,usecols=[6],dtype=bytes).astype(str)\n",
    "\n",
    "Titulo= 'Fecha,Hora,Coincidencias\\n'\n",
    "#print Titulo\n",
    "dia_hora_coincidencias.write (str(Titulo))\n",
    "noche_hora_coincidencias.write (str(Titulo))\n",
    "print(hora)\n",
    "for i in range(len(hora)):\n",
    "    test = int(hora[i])\n",
    "   # print(hora)\n",
    "    if 63500<test<192417 : # Fija intervalo de horas para el día\n",
    "        data = fecha[i] + \",\" + hora[i] + \",\" + coincidencias[i] \n",
    "        #print(data)\n",
    "        dia_hora_coincidencias.write(str(data))\n",
    "        dia_hora_coincidencias.write(\"\\n\") \n",
    "    else:\n",
    "        data2 = fecha[i] + \",\" + hora[i] + \",\" + coincidencias[i] \n",
    "        #print data2\n",
    "        noche_hora_coincidencias.write(str(data2))\n",
    "        noche_hora_coincidencias.write(\"\\n\") \n",
    "        \n",
    "dia_hora_coincidencias.close()\n",
    "noche_hora_coincidencias.close()\n"
   ]
  },
  {
   "cell_type": "code",
   "execution_count": 8,
   "metadata": {},
   "outputs": [],
   "source": [
    "\n",
    "datos= pd.read_csv('vardn0507181644_final_dia.csv')\n",
    "datos2= pd.read_csv('vardn0507181644_final_noche.csv')\n",
    "df=pd.DataFrame(datos)\n",
    "df2=pd.DataFrame(datos2)\n",
    "\n"
   ]
  },
  {
   "cell_type": "code",
   "execution_count": null,
   "metadata": {},
   "outputs": [],
   "source": []
  },
  {
   "cell_type": "code",
   "execution_count": 9,
   "metadata": {},
   "outputs": [
    {
     "data": {
      "text/html": [
       "<div>\n",
       "<style scoped>\n",
       "    .dataframe tbody tr th:only-of-type {\n",
       "        vertical-align: middle;\n",
       "    }\n",
       "\n",
       "    .dataframe tbody tr th {\n",
       "        vertical-align: top;\n",
       "    }\n",
       "\n",
       "    .dataframe thead th {\n",
       "        text-align: right;\n",
       "    }\n",
       "</style>\n",
       "<table border=\"1\" class=\"dataframe\">\n",
       "  <thead>\n",
       "    <tr style=\"text-align: right;\">\n",
       "      <th></th>\n",
       "      <th>Fecha</th>\n",
       "      <th>Hora</th>\n",
       "      <th>Coincidencias</th>\n",
       "    </tr>\n",
       "  </thead>\n",
       "  <tbody>\n",
       "    <tr>\n",
       "      <td>0</td>\n",
       "      <td>50718</td>\n",
       "      <td>214611</td>\n",
       "      <td>280</td>\n",
       "    </tr>\n",
       "    <tr>\n",
       "      <td>1</td>\n",
       "      <td>50718</td>\n",
       "      <td>214711</td>\n",
       "      <td>562</td>\n",
       "    </tr>\n",
       "    <tr>\n",
       "      <td>2</td>\n",
       "      <td>50718</td>\n",
       "      <td>214811</td>\n",
       "      <td>562</td>\n",
       "    </tr>\n",
       "    <tr>\n",
       "      <td>3</td>\n",
       "      <td>50718</td>\n",
       "      <td>214911</td>\n",
       "      <td>550</td>\n",
       "    </tr>\n",
       "    <tr>\n",
       "      <td>4</td>\n",
       "      <td>50718</td>\n",
       "      <td>215012</td>\n",
       "      <td>539</td>\n",
       "    </tr>\n",
       "  </tbody>\n",
       "</table>\n",
       "</div>"
      ],
      "text/plain": [
       "   Fecha    Hora  Coincidencias\n",
       "0  50718  214611            280\n",
       "1  50718  214711            562\n",
       "2  50718  214811            562\n",
       "3  50718  214911            550\n",
       "4  50718  215012            539"
      ]
     },
     "execution_count": 9,
     "metadata": {},
     "output_type": "execute_result"
    }
   ],
   "source": [
    "df2.head()"
   ]
  },
  {
   "cell_type": "code",
   "execution_count": 12,
   "metadata": {},
   "outputs": [
    {
     "data": {
      "text/plain": [
       "count    3871.000000\n",
       "mean      556.231981\n",
       "std        23.729166\n",
       "min       280.000000\n",
       "25%       540.000000\n",
       "50%       556.000000\n",
       "75%       572.000000\n",
       "max       654.000000\n",
       "Name: Coincidencias, dtype: float64"
      ]
     },
     "execution_count": 12,
     "metadata": {},
     "output_type": "execute_result"
    }
   ],
   "source": [
    "df2['Coincidencias'].describe()"
   ]
  },
  {
   "cell_type": "code",
   "execution_count": 14,
   "metadata": {},
   "outputs": [
    {
     "data": {
      "image/png": "[encoded data removed]",
      "text/plain": [
       "<Figure size 720x144 with 1 Axes>"
      ]
     },
     "metadata": {
      "needs_background": "light"
     },
     "output_type": "display_data"
    }
   ],
   "source": [
    "\n",
    "fig, axes = plt.subplots(1,1, figsize=(10,2), sharex=True)\n",
    "axes =df2['Coincidencias'].plot(marker='.',markersize=5.5, linestyle='None',legend=True,  label='Muons',alpha=1,color='g', figsize=(11, 9), subplots=True)\n",
    "\n",
    "ax = plt.gca()\n",
    "ax.set_ylabel('Counts')\n",
    "#plt.show()\n",
    "plt.savefig('MuonesTimeseries0507181644.png')"
   ]
  },
  {
   "cell_type": "code",
   "execution_count": 32,
   "metadata": {},
   "outputs": [
    {
     "data": {
      "image/png": "[encoded data removed]",
      "text/plain": [
       "<Figure size 864x432 with 2 Axes>"
      ]
     },
     "metadata": {
      "needs_background": "light"
     },
     "output_type": "display_data"
    },
    {
     "data": {
      "text/plain": [
       "<Figure size 432x288 with 0 Axes>"
      ]
     },
     "metadata": {},
     "output_type": "display_data"
    }
   ],
   "source": [
    "plt.figure(figsize=(12,6)) # Elige el tamaño de las gráficas\n",
    "plt.subplot(1,2,1)\n",
    "df.groupby('Hora')['Coincidencias'].mean().plot(kind='bar',cmap='Spectral', legend=False)\n",
    "plt.title('# Coincidencias por hora (dia)')\n",
    "plt.xlabel('Horas')\n",
    "plt.ylabel('Coincidencias')\n",
    "\n",
    "plt.subplot(1,2,2)\n",
    "df2.groupby('Hora')['Coincidencias'].mean().plot(kind='bar',cmap='Spectral', legend=False)\n",
    "plt.title('# Coincidencias por hora (noche)')\n",
    "plt.xlabel('Horas')\n",
    "plt.ylabel('Coincidencias')\n",
    "\n",
    "\n",
    "plt.show()\n",
    "plt.savefig(\"vardn0507181644_fig.png\", bbox_inches='tight') #Nombra el archivo de la gráfica\n"
   ]
  },
  {
   "cell_type": "code",
   "execution_count": 9,
   "metadata": {},
   "outputs": [],
   "source": [
    "myarray = np.asarray(coincidencias)"
   ]
  },
  {
   "cell_type": "code",
   "execution_count": 16,
   "metadata": {},
   "outputs": [
    {
     "data": {
      "image/png": "[encoded data removed]",
      "text/plain": [
       "<Figure size 432x288 with 1 Axes>"
      ]
     },
     "metadata": {},
     "output_type": "display_data"
    }
   ],
   "source": [
    "import seaborn as sns\n",
    "sns.set(style=\"whitegrid\")\n",
    "ax = sns.boxplot(data=myarray)\n",
    "plt.savefig(\"coincidencias.png\", bbox_inches='tight')"
   ]
  },
  {
   "cell_type": "code",
   "execution_count": null,
   "metadata": {},
   "outputs": [],
   "source": []
  }
 ],
 "metadata": {
  "kernelspec": {
   "display_name": "Python 3",
   "language": "python",
   "name": "python3"
  },
  "language_info": {
   "codemirror_mode": {
    "name": "ipython",
    "version": 3
   },
   "file_extension": ".py",
   "mimetype": "text/x-python",
   "name": "python",
   "nbconvert_exporter": "python",
   "pygments_lexer": "ipython3",
   "version": "3.7.6"
  }
 },
 "nbformat": 4,
 "nbformat_minor": 4
}
